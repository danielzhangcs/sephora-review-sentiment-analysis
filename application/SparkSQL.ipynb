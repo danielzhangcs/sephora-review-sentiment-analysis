{
 "cells": [
  {
   "cell_type": "code",
   "execution_count": 93,
   "metadata": {
    "collapsed": true
   },
   "outputs": [],
   "source": [
    "import pandas as pd\n",
    "import numpy as np\n",
    "import scipy\n",
    "\n",
    "\n",
    "%matplotlib notebook\n",
    "import matplotlib.pyplot as plt\n",
    "import seaborn as sns\n",
    "import matplotlib.colors as colors\n",
    "\n",
    "from IPython.core.interactiveshell import InteractiveShell\n",
    "InteractiveShell.ast_node_interactivity = \"all\"\n",
    "\n",
    "\n",
    "from sklearn.feature_extraction.text import CountVectorizer \n",
    "\n",
    "import string\n",
    "from nltk.corpus import stopwords\n",
    "\n",
    "import plotly\n",
    "import plotly.plotly as py\n",
    "import plotly.graph_objs as go\n",
    "import colorlover as cl\n",
    "#py.sign_in('Xiaoye127', 'xiaoye123456789') \n"
   ]
  },
  {
   "cell_type": "markdown",
   "metadata": {},
   "source": [
    "# SparkSql \n",
    " review(term-freq)         \n",
    " customer information(customer_info)"
   ]
  },
  {
   "cell_type": "markdown",
   "metadata": {},
   "source": [
    "## read data"
   ]
  },
  {
   "cell_type": "code",
   "execution_count": 2,
   "metadata": {
    "collapsed": true
   },
   "outputs": [],
   "source": [
    "import findspark\n",
    "findspark.init()\n",
    "\n",
    "import pyspark\n",
    "from pyspark.sql import SQLContext"
   ]
  },
  {
   "cell_type": "code",
   "execution_count": 3,
   "metadata": {},
   "outputs": [
    {
     "name": "stdout",
     "output_type": "stream",
     "text": [
      "+---+---------+----------+-------------+------+-----+--------+---------+--------+--------+--------------------+--------------------+--------------------+--------------------+--------------+\n",
      "|_c0|fileIndex|productID2| userNickname|rating|  age|eyeColor|hairColor|skinTone|skinType|              review|         ProductID11|        Product_name|            Brand_id|    Brand_name|\n",
      "+---+---------+----------+-------------+------+-----+--------+---------+--------+--------+--------------------+--------------------+--------------------+--------------------+--------------+\n",
      "|  0|        0|   P307803|        LCD11|     5|35-44|    null|     null|    null|    null|I'm a fan of gour...|             P307803|Blu Mediterraneo ...|                5847|Acqua Di Parma|\n",
      "|  1|        1|   P307803|GabrielleShae|     5| null|    null|     null|    null|    null|\"I received this ...| but it is very s...|             P307803|Blu Mediterraneo ...|          5847|\n",
      "+---+---------+----------+-------------+------+-----+--------+---------+--------+--------+--------------------+--------------------+--------------------+--------------------+--------------+\n",
      "only showing top 2 rows\n",
      "\n"
     ]
    }
   ],
   "source": [
    "sc = pyspark.SparkContext()\n",
    "sqlContext = SQLContext(sc)\n",
    "\n",
    "\n",
    "# # custom_info \n",
    "# custom_spark = sqlContext.read.csv(\"/Users/xy/Desktop/BIG DATA MGMT SYSTM/Project/customer_info.csv\",\n",
    "#                                    header=True, inferSchema=True)\n",
    "# custom_spark.show(5)\n",
    "\n",
    "\n",
    "\n",
    "# # term_freq \n",
    "# term_spark = sqlContext.read.csv(\"/Users/xy/Desktop/BIG DATA MGMT SYSTM/Project/term_frequency.csv\",\n",
    "#                                    header=True, inferSchema=True)\n",
    "\n",
    "\n",
    "# # all_data\n",
    "# all_spark=sqlContext.read.csv(\"/Users/xy/Desktop/BIG DATA MGMT SYSTM/Project/all_data.csv\",\n",
    "#                                    header=True, inferSchema=True)\n",
    "# all_spark.show(5)\n",
    "\n",
    "\n",
    "\n",
    "# #brand.csv\n",
    "# brand_spark=sqlContext.read.csv(\"/Users/xy/Desktop/BIG DATA MGMT SYSTM/Project/Data/Prducts_Info.csv\",\n",
    "#                                    header=True, inferSchema=True)\n",
    "# brand_spark.show(5)\n",
    "\n",
    "\n",
    "# joined data\n",
    "joined_spark=sqlContext.read.csv(\"/Users/xy/Desktop/BIG DATA MGMT SYSTM/Project/joined_data.csv\",\n",
    "                                   header=True, inferSchema=True)\n",
    "joined_spark.show(2)"
   ]
  },
  {
   "cell_type": "code",
   "execution_count": 4,
   "metadata": {
    "collapsed": true
   },
   "outputs": [],
   "source": [
    "# term_spark.createOrReplaceTempView('term_freq')\n",
    "# custom_spark.createOrReplaceTempView('custom_info')\n",
    "# all_spark.createOrReplaceTempView('all_data')\n",
    "# brand_spark.createOrReplaceTempView('brand')\n",
    "joined_spark.createOrReplaceTempView('joined')"
   ]
  },
  {
   "cell_type": "markdown",
   "metadata": {},
   "source": [
    "## spark sql "
   ]
  },
  {
   "cell_type": "markdown",
   "metadata": {},
   "source": [
    "###  try term_freq"
   ]
  },
  {
   "cell_type": "code",
   "execution_count": 89,
   "metadata": {},
   "outputs": [
    {
     "name": "stdout",
     "output_type": "stream",
     "text": [
      "+------+----+\n",
      "| index|nars|\n",
      "+------+----+\n",
      "| 16868|   1|\n",
      "| 16927|   1|\n",
      "| 16980|   1|\n",
      "| 23054|   1|\n",
      "| 23146|   1|\n",
      "|104605|   1|\n",
      "|160200|   1|\n",
      "|169914|   1|\n",
      "|183202|   1|\n",
      "|320478|   1|\n",
      "|320543|   1|\n",
      "|338482|   1|\n",
      "|351905|   1|\n",
      "|362074|   1|\n",
      "|362195|   1|\n",
      "|370336|   1|\n",
      "|373968|   1|\n",
      "|378322|   1|\n",
      "|387897|   1|\n",
      "|441944|   1|\n",
      "+------+----+\n",
      "only showing top 20 rows\n",
      "\n"
     ]
    }
   ],
   "source": [
    "# try term_freq\n",
    "term_input=sqlContext.sql('SELECT _c0 as index ,nars FROM term_freq WHERE nars!=0 ')\n",
    "term_input.show(20)"
   ]
  },
  {
   "cell_type": "markdown",
   "metadata": {},
   "source": [
    "### try custom_info"
   ]
  },
  {
   "cell_type": "code",
   "execution_count": 44,
   "metadata": {},
   "outputs": [
    {
     "name": "stdout",
     "output_type": "stream",
     "text": [
      "+---------+------+\n",
      "|fileIndex|rating|\n",
      "+---------+------+\n",
      "|       34|     3|\n",
      "|      194|     5|\n",
      "|      359|     5|\n",
      "|      442|     3|\n",
      "|      520|     5|\n",
      "|      633|     5|\n",
      "|      785|     5|\n",
      "|      796|     5|\n",
      "|     1053|     1|\n",
      "|     1108|     5|\n",
      "|     1146|     5|\n",
      "|     1178|     5|\n",
      "|     1213|     5|\n",
      "|     1233|     1|\n",
      "|     1646|     5|\n",
      "|     1679|     4|\n",
      "|     2222|     5|\n",
      "|     2419|     3|\n",
      "|     3139|     5|\n",
      "|     4094|     5|\n",
      "+---------+------+\n",
      "only showing top 20 rows\n",
      "\n"
     ]
    }
   ],
   "source": [
    "# try custom_info\n",
    "custom_input=sqlContext.sql('''SELECT fileIndex ,rating \n",
    "                               FROM custom_info \n",
    "                               WHERE age=\\'35-44\\' and eyeColor= \\'Brown\\'\n",
    "                               ''')\n",
    "custom_input.show()\n"
   ]
  },
  {
   "cell_type": "markdown",
   "metadata": {},
   "source": [
    "### try all_data"
   ]
  },
  {
   "cell_type": "code",
   "execution_count": 30,
   "metadata": {},
   "outputs": [
    {
     "name": "stdout",
     "output_type": "stream",
     "text": [
      "+-----+---------+---------+----------------+------+-----+--------+---------+--------+-----------+--------------------+\n",
      "|  _c0|fileIndex|productID|    userNickname|rating|  age|eyeColor|hairColor|skinTone|   skinType|              review|\n",
      "+-----+---------+---------+----------------+------+-----+--------+---------+--------+-----------+--------------------+\n",
      "| 1755|     1755|  P282938|           tvk09|     5|35-44|    null|     null|    null|Combination|Bags on top of ey...|\n",
      "| 1764|     1764|  P282938|   kmharshberger|     5|35-44|    null|     null|    null|Combination|My mom, sister, a...|\n",
      "| 1786|     1786|  P282938|      Leslielynn|     5|35-44|    null|     null|    null|Combination|Really rich but n...|\n",
      "| 1801|     1801|  P282938|   kmharshberger|     5|35-44|    null|     null|    null|Combination|My mom, sister, a...|\n",
      "| 1843|     1843|  P282938|          sheri5|     5|35-44|    null|     null|    Fair|     Normal|I had been using ...|\n",
      "| 1896|     1896|  P282938|         julabee|     4|35-44|    null|     null|    null|Combination|I am pretty impre...|\n",
      "| 1931|     1931|  P282938|         wintery|     4|35-44|    null|     null|    null|Combination|I keep coming bac...|\n",
      "| 1969|     1969|  P282938| MichelleLynette|     4|35-44|    null|     null|    null|Combination|I went to get an ...|\n",
      "| 2000|     2000|  P282938|         wintery|     4|35-44|    null|     null|    null|Combination|I keep coming bac...|\n",
      "| 2025|     2025|  P282938|            null|     2|35-44|    null|     null|    null|       null|While this eye cr...|\n",
      "| 2037|     2037|  P282938|    AshleynEmily|     5|35-44|    null|     null|    null|Combination|I had to search a...|\n",
      "| 2048|     2048|  P282938|          laramz|     5|35-44|    null|     null|    Fair|Combination|This balm has don...|\n",
      "| 2112|     2112|  P282938|            Hwin|     4|35-44|    null|     null|    null|Combination|\"this is a very g...|\n",
      "| 2131|     2131|  P282938|     anastasiamd|     5|35-44|    null|     null|    null|     Normal|I got this as a s...|\n",
      "| 2309|     2309|  P282938|           ash63|     5|35-44|    null|     null|    null|     Normal|I noticed a diffe...|\n",
      "| 2323|     2323|  P282938|         mck7519|     5|35-44|    null|     null|    null|     Normal|I've used many ey...|\n",
      "| 2325|     2325|  P282938|        NMoffatt|     5|35-44|    null|     null|    null|Combination|I purchased this ...|\n",
      "| 2434|     2434|  P282938|     tabbabygirl|     2|35-44|    null|     null|    null|Combination|At first I though...|\n",
      "| 4384|     4384|  P404169|    Marilynizda1|     3|35-44|    null|     null|    null|Combination|I think this prod...|\n",
      "|16382|    16382|   P59405|beautyjunkie1011|     2|35-44|   Green|     null|   Light|       null|I bought this at ...|\n",
      "+-----+---------+---------+----------------+------+-----+--------+---------+--------+-----------+--------------------+\n",
      "only showing top 20 rows\n",
      "\n"
     ]
    }
   ],
   "source": [
    "# try all_data\n",
    "all_input=sqlContext.sql('''SELECT *\n",
    "                               FROM all_data \n",
    "                               WHERE review REGEXP 'dark circle' \n",
    "                               AND age='35-44'\n",
    "                               ''')\n",
    "all_input.show()"
   ]
  },
  {
   "cell_type": "markdown",
   "metadata": {},
   "source": [
    "### for joined table"
   ]
  },
  {
   "cell_type": "code",
   "execution_count": 327,
   "metadata": {},
   "outputs": [
    {
     "name": "stdout",
     "output_type": "stream",
     "text": [
      "+-----+---------+----------+----------------+------+-----+--------+---------+--------+-----------+--------------------+-----------+--------------------+--------+-----------------+\n",
      "|  _c0|fileIndex|productID2|    userNickname|rating|  age|eyeColor|hairColor|skinTone|   skinType|              review|ProductID11|        Product_name|Brand_id|       Brand_name|\n",
      "+-----+---------+----------+----------------+------+-----+--------+---------+--------+-----------+--------------------+-----------+--------------------+--------+-----------------+\n",
      "| 1755|     1755|   P282938|           tvk09|     5|35-44|    null|     null|    null|Combination|Bags on top of ey...|    P282938|Complete Eye Rene...|    6018|         Algenist|\n",
      "| 1764|     1764|   P282938|   kmharshberger|     5|35-44|    null|     null|    null|Combination|My mom, sister, a...|    P282938|Complete Eye Rene...|    6018|         Algenist|\n",
      "| 1786|     1786|   P282938|      Leslielynn|     5|35-44|    null|     null|    null|Combination|Really rich but n...|    P282938|Complete Eye Rene...|    6018|         Algenist|\n",
      "| 1801|     1801|   P282938|   kmharshberger|     5|35-44|    null|     null|    null|Combination|My mom, sister, a...|    P282938|Complete Eye Rene...|    6018|         Algenist|\n",
      "| 1843|     1843|   P282938|          sheri5|     5|35-44|    null|     null|    Fair|     Normal|I had been using ...|    P282938|Complete Eye Rene...|    6018|         Algenist|\n",
      "| 1896|     1896|   P282938|         julabee|     4|35-44|    null|     null|    null|Combination|I am pretty impre...|    P282938|Complete Eye Rene...|    6018|         Algenist|\n",
      "| 1931|     1931|   P282938|         wintery|     4|35-44|    null|     null|    null|Combination|I keep coming bac...|    P282938|Complete Eye Rene...|    6018|         Algenist|\n",
      "| 1969|     1969|   P282938| MichelleLynette|     4|35-44|    null|     null|    null|Combination|I went to get an ...|    P282938|Complete Eye Rene...|    6018|         Algenist|\n",
      "| 2000|     2000|   P282938|         wintery|     4|35-44|    null|     null|    null|Combination|I keep coming bac...|    P282938|Complete Eye Rene...|    6018|         Algenist|\n",
      "| 2025|     2025|   P282938|            null|     2|35-44|    null|     null|    null|       null|While this eye cr...|    P282938|Complete Eye Rene...|    6018|         Algenist|\n",
      "| 2037|     2037|   P282938|    AshleynEmily|     5|35-44|    null|     null|    null|Combination|I had to search a...|    P282938|Complete Eye Rene...|    6018|         Algenist|\n",
      "| 2048|     2048|   P282938|          laramz|     5|35-44|    null|     null|    Fair|Combination|This balm has don...|    P282938|Complete Eye Rene...|    6018|         Algenist|\n",
      "| 2112|     2112|   P282938|            Hwin|     4|35-44|    null|     null|    null|Combination|\"this is a very g...|    P282938|Complete Eye Rene...|    6018|         Algenist|\n",
      "| 2131|     2131|   P282938|     anastasiamd|     5|35-44|    null|     null|    null|     Normal|I got this as a s...|    P282938|Complete Eye Rene...|    6018|         Algenist|\n",
      "| 2309|     2309|   P282938|           ash63|     5|35-44|    null|     null|    null|     Normal|I noticed a diffe...|    P282938|Complete Eye Rene...|    6018|         Algenist|\n",
      "| 2323|     2323|   P282938|         mck7519|     5|35-44|    null|     null|    null|     Normal|I've used many ey...|    P282938|Complete Eye Rene...|    6018|         Algenist|\n",
      "| 2325|     2325|   P282938|        NMoffatt|     5|35-44|    null|     null|    null|Combination|I purchased this ...|    P282938|Complete Eye Rene...|    6018|         Algenist|\n",
      "| 2434|     2434|   P282938|     tabbabygirl|     2|35-44|    null|     null|    null|Combination|At first I though...|    P282938|Complete Eye Rene...|    6018|         Algenist|\n",
      "| 4384|     4384|   P404169|    Marilynizda1|     3|35-44|    null|     null|    null|Combination|I think this prod...|    P404169|POWER Advanced Wr...|    6018|         Algenist|\n",
      "|16382|    16382|    P59405|beautyjunkie1011|     2|35-44|   Green|     null|   Light|       null|I bought this at ...|     P59405|   Amazing Concealer|    5723|Amazing Cosmetics|\n",
      "+-----+---------+----------+----------------+------+-----+--------+---------+--------+-----------+--------------------+-----------+--------------------+--------+-----------------+\n",
      "only showing top 20 rows\n",
      "\n"
     ]
    }
   ],
   "source": [
    "# for joined table\n",
    "result=sqlContext.sql('''SELECT *\n",
    "                               FROM joined \n",
    "                               WHERE review REGEXP 'dark circle' \n",
    "                               AND age='35-44'\n",
    "                               ''')\n",
    "result.show()"
   ]
  },
  {
   "cell_type": "markdown",
   "metadata": {},
   "source": [
    "# for visulization"
   ]
  },
  {
   "cell_type": "code",
   "execution_count": 328,
   "metadata": {
    "scrolled": false
   },
   "outputs": [
    {
     "data": {
      "text/html": [
       "<div>\n",
       "<style scoped>\n",
       "    .dataframe tbody tr th:only-of-type {\n",
       "        vertical-align: middle;\n",
       "    }\n",
       "\n",
       "    .dataframe tbody tr th {\n",
       "        vertical-align: top;\n",
       "    }\n",
       "\n",
       "    .dataframe thead th {\n",
       "        text-align: right;\n",
       "    }\n",
       "</style>\n",
       "<table border=\"1\" class=\"dataframe\">\n",
       "  <thead>\n",
       "    <tr style=\"text-align: right;\">\n",
       "      <th></th>\n",
       "      <th>_c0</th>\n",
       "      <th>fileIndex</th>\n",
       "      <th>productID2</th>\n",
       "      <th>userNickname</th>\n",
       "      <th>rating</th>\n",
       "      <th>age</th>\n",
       "      <th>eyeColor</th>\n",
       "      <th>hairColor</th>\n",
       "      <th>skinTone</th>\n",
       "      <th>skinType</th>\n",
       "      <th>review</th>\n",
       "      <th>ProductID11</th>\n",
       "      <th>Product_name</th>\n",
       "      <th>Brand_id</th>\n",
       "      <th>Brand_name</th>\n",
       "    </tr>\n",
       "  </thead>\n",
       "  <tbody>\n",
       "    <tr>\n",
       "      <th>0</th>\n",
       "      <td>1755</td>\n",
       "      <td>1755</td>\n",
       "      <td>P282938</td>\n",
       "      <td>tvk09</td>\n",
       "      <td>5</td>\n",
       "      <td>35-44</td>\n",
       "      <td>None</td>\n",
       "      <td>None</td>\n",
       "      <td>None</td>\n",
       "      <td>Combination</td>\n",
       "      <td>Bags on top of eyelids are noticeably tighter,...</td>\n",
       "      <td>P282938</td>\n",
       "      <td>Complete Eye Renewal Balm</td>\n",
       "      <td>6018</td>\n",
       "      <td>Algenist</td>\n",
       "    </tr>\n",
       "    <tr>\n",
       "      <th>1</th>\n",
       "      <td>1764</td>\n",
       "      <td>1764</td>\n",
       "      <td>P282938</td>\n",
       "      <td>kmharshberger</td>\n",
       "      <td>5</td>\n",
       "      <td>35-44</td>\n",
       "      <td>None</td>\n",
       "      <td>None</td>\n",
       "      <td>None</td>\n",
       "      <td>Combination</td>\n",
       "      <td>My mom, sister, and grandma all have dark circ...</td>\n",
       "      <td>P282938</td>\n",
       "      <td>Complete Eye Renewal Balm</td>\n",
       "      <td>6018</td>\n",
       "      <td>Algenist</td>\n",
       "    </tr>\n",
       "    <tr>\n",
       "      <th>2</th>\n",
       "      <td>1786</td>\n",
       "      <td>1786</td>\n",
       "      <td>P282938</td>\n",
       "      <td>Leslielynn</td>\n",
       "      <td>5</td>\n",
       "      <td>35-44</td>\n",
       "      <td>None</td>\n",
       "      <td>None</td>\n",
       "      <td>None</td>\n",
       "      <td>Combination</td>\n",
       "      <td>Really rich but not cloggy feeling. Smooth and...</td>\n",
       "      <td>P282938</td>\n",
       "      <td>Complete Eye Renewal Balm</td>\n",
       "      <td>6018</td>\n",
       "      <td>Algenist</td>\n",
       "    </tr>\n",
       "    <tr>\n",
       "      <th>3</th>\n",
       "      <td>1801</td>\n",
       "      <td>1801</td>\n",
       "      <td>P282938</td>\n",
       "      <td>kmharshberger</td>\n",
       "      <td>5</td>\n",
       "      <td>35-44</td>\n",
       "      <td>None</td>\n",
       "      <td>None</td>\n",
       "      <td>None</td>\n",
       "      <td>Combination</td>\n",
       "      <td>My mom, sister, and grandma all have dark circ...</td>\n",
       "      <td>P282938</td>\n",
       "      <td>Complete Eye Renewal Balm</td>\n",
       "      <td>6018</td>\n",
       "      <td>Algenist</td>\n",
       "    </tr>\n",
       "    <tr>\n",
       "      <th>4</th>\n",
       "      <td>1843</td>\n",
       "      <td>1843</td>\n",
       "      <td>P282938</td>\n",
       "      <td>sheri5</td>\n",
       "      <td>5</td>\n",
       "      <td>35-44</td>\n",
       "      <td>None</td>\n",
       "      <td>None</td>\n",
       "      <td>Fair</td>\n",
       "      <td>Normal</td>\n",
       "      <td>I had been using the Fresh black tea age delay...</td>\n",
       "      <td>P282938</td>\n",
       "      <td>Complete Eye Renewal Balm</td>\n",
       "      <td>6018</td>\n",
       "      <td>Algenist</td>\n",
       "    </tr>\n",
       "  </tbody>\n",
       "</table>\n",
       "</div>"
      ],
      "text/plain": [
       "    _c0 fileIndex productID2   userNickname  rating    age eyeColor hairColor  \\\n",
       "0  1755      1755    P282938          tvk09       5  35-44     None      None   \n",
       "1  1764      1764    P282938  kmharshberger       5  35-44     None      None   \n",
       "2  1786      1786    P282938     Leslielynn       5  35-44     None      None   \n",
       "3  1801      1801    P282938  kmharshberger       5  35-44     None      None   \n",
       "4  1843      1843    P282938         sheri5       5  35-44     None      None   \n",
       "\n",
       "  skinTone     skinType                                             review  \\\n",
       "0     None  Combination  Bags on top of eyelids are noticeably tighter,...   \n",
       "1     None  Combination  My mom, sister, and grandma all have dark circ...   \n",
       "2     None  Combination  Really rich but not cloggy feeling. Smooth and...   \n",
       "3     None  Combination  My mom, sister, and grandma all have dark circ...   \n",
       "4     Fair       Normal  I had been using the Fresh black tea age delay...   \n",
       "\n",
       "  ProductID11               Product_name Brand_id Brand_name  \n",
       "0     P282938  Complete Eye Renewal Balm     6018   Algenist  \n",
       "1     P282938  Complete Eye Renewal Balm     6018   Algenist  \n",
       "2     P282938  Complete Eye Renewal Balm     6018   Algenist  \n",
       "3     P282938  Complete Eye Renewal Balm     6018   Algenist  \n",
       "4     P282938  Complete Eye Renewal Balm     6018   Algenist  "
      ]
     },
     "execution_count": 328,
     "metadata": {},
     "output_type": "execute_result"
    }
   ],
   "source": [
    "result_df = result.toPandas()\n",
    "result_df['rating']=result_df['rating'].astype(int)\n",
    "result_df.head()"
   ]
  },
  {
   "cell_type": "markdown",
   "metadata": {},
   "source": [
    "## pie chart for 20 brands"
   ]
  },
  {
   "cell_type": "code",
   "execution_count": 329,
   "metadata": {},
   "outputs": [
    {
     "name": "stderr",
     "output_type": "stream",
     "text": [
      "/Users/xy/anaconda3/lib/python3.6/site-packages/plotly/offline/offline.py:459: UserWarning:\n",
      "\n",
      "Your filename `brands` didn't end with .html. Adding .html to the end of your file.\n",
      "\n"
     ]
    }
   ],
   "source": [
    "\n",
    "def pie_chart_brand(data):\n",
    "    '''\n",
    "    pie chart for brands\n",
    "    '''\n",
    "    pie_chart=data.groupby('Brand_name').agg({'fileIndex':'count'})\n",
    "    pie_chart.sort_values(by='fileIndex',inplace=True,ascending=False)\n",
    "    pie_chart=pie_chart.iloc[:20]\n",
    "    \n",
    "    bupu = cl.scales['9']['seq']['BuPu']\n",
    "    \n",
    "    data_g = []\n",
    "    \n",
    "    tr_p = go.Pie(\n",
    "        labels = pie_chart.index,\n",
    "        values = pie_chart['fileIndex'],\n",
    "        hoverinfo='label+percent+value', textinfo='label+percent',\n",
    "        textfont=dict(size=15),\n",
    "        marker=dict(colors= cl.interp( bupu, 20 ),\n",
    "                    line=dict(color='#000000', width=1))\n",
    "    )\n",
    "    data_g.append(tr_p)\n",
    "    layout = go.Layout(title=\"Top20 most popular brands\",titlefont=dict(size=35))\n",
    "    fig = go.Figure(data=data_g, layout=layout)\n",
    "    plotly.offline.plot(fig,filename='brands')\n",
    "    \n",
    "pie_chart_brand(result_df)"
   ]
  },
  {
   "cell_type": "markdown",
   "metadata": {},
   "source": [
    "## pie chart for 20 products"
   ]
  },
  {
   "cell_type": "code",
   "execution_count": 330,
   "metadata": {},
   "outputs": [
    {
     "name": "stderr",
     "output_type": "stream",
     "text": [
      "/Users/xy/anaconda3/lib/python3.6/site-packages/plotly/offline/offline.py:459: UserWarning:\n",
      "\n",
      "Your filename `products` didn't end with .html. Adding .html to the end of your file.\n",
      "\n"
     ]
    }
   ],
   "source": [
    "def pie_chart_product(data):\n",
    "    '''\n",
    "    pie chart for products\n",
    "    '''\n",
    "    pie_chart=result_df.groupby(['Product_name','Brand_name']).agg({'fileIndex':'count'})\n",
    "    pie_chart.reset_index(inplace=True)\n",
    "    pie_chart.sort_values(by='fileIndex',inplace=True,ascending=False)\n",
    "    pie_chart=pie_chart.iloc[:20]\n",
    "    \n",
    "    bupu = cl.scales['9']['seq']['BuPu']\n",
    "    \n",
    "    data_g = []\n",
    "    tr_p = go.Pie(\n",
    "        labels = pie_chart['Product_name'],\n",
    "        values = pie_chart['fileIndex'],\n",
    "        text=pie_chart['Brand_name'],\n",
    "        hoverinfo='text+label+value+percent', textinfo='label+percent',\n",
    "        textfont=dict(size=13),\n",
    "        marker=dict(colors= cl.interp( bupu, 20 ),\n",
    "                    line=dict(color='#000000', width=1))\n",
    "    )\n",
    "    data_g.append(tr_p)\n",
    "    layout = go.Layout(title=\"Top20 most popular products\",titlefont=dict(size=35))\n",
    "    fig = go.Figure(data=data_g, layout=layout)\n",
    "    plotly.offline.plot(fig,filename='products')\n",
    "    \n",
    "pie_chart_product(result_df)"
   ]
  },
  {
   "cell_type": "markdown",
   "metadata": {},
   "source": [
    "## box plot of ratings for brands"
   ]
  },
  {
   "cell_type": "code",
   "execution_count": 331,
   "metadata": {},
   "outputs": [
    {
     "name": "stderr",
     "output_type": "stream",
     "text": [
      "/Users/xy/anaconda3/lib/python3.6/site-packages/plotly/offline/offline.py:459: UserWarning:\n",
      "\n",
      "Your filename `boxplot of ratings` didn't end with .html. Adding .html to the end of your file.\n",
      "\n"
     ]
    }
   ],
   "source": [
    "def boxplot_rating_brand(data):\n",
    "    data_g = []\n",
    "    \n",
    "    brand_rating=data.groupby('Brand_name').agg({'rating':np.median,'fileIndex':'count'})\n",
    "    brand_rating.sort_values(by='rating',inplace=True,ascending=False)\n",
    "    brand_rating=brand_rating[brand_rating['fileIndex']>5]  #select the brands having more than 5 reviews\n",
    "     \n",
    "\n",
    "    for col in brand_rating.index:\n",
    "            data_g.append(go.Box(y=data[data['Brand_name'] == col]['rating'], name=col, showlegend=False))\n",
    "    layout = go.Layout(title=\"Boxplot of ratings for each brand\",titlefont=dict(size=35))\n",
    "    fig = go.Figure(data=data_g, layout=layout)\n",
    "            \n",
    "    plotly.offline.plot(fig,filename='boxplot of ratings')\n",
    "    \n",
    "boxplot_rating_brand(result_df)"
   ]
  },
  {
   "cell_type": "markdown",
   "metadata": {},
   "source": [
    "## scatter plot for reviews"
   ]
  },
  {
   "cell_type": "code",
   "execution_count": 332,
   "metadata": {},
   "outputs": [
    {
     "name": "stderr",
     "output_type": "stream",
     "text": [
      "/Users/xy/anaconda3/lib/python3.6/site-packages/plotly/offline/offline.py:459: UserWarning:\n",
      "\n",
      "Your filename `scatter plot for reviews` didn't end with .html. Adding .html to the end of your file.\n",
      "\n"
     ]
    }
   ],
   "source": [
    "def scatter_review(data):\n",
    "    colorscale = [[0, '#FAEE1C'], [0.33, '#F3558E'], [0.66, '#9C1DE7'], [1, '#581B98']]\n",
    "    trace1 = go.Scatter(\n",
    "    y = data['rating'],\n",
    "    x = data['Brand_name'],\n",
    "    mode='markers',\n",
    "    text=data['review'],\n",
    "\n",
    "    #textfont=dict(size=13),\n",
    "    marker=dict(\n",
    "        size='10',\n",
    "        color = data['rating'], #set color equal to a variable\n",
    "        colorscale=colorscale,\n",
    "        showscale=True\n",
    "        )\n",
    "    )\n",
    "    data_g= [trace1]\n",
    "    plotly.offline.plot(data_g,filename='scatter plot for reviews')\n",
    "    \n",
    "\n",
    "scatter_review(result_df)"
   ]
  },
  {
   "cell_type": "markdown",
   "metadata": {},
   "source": [
    "## trail for violin plot"
   ]
  },
  {
   "cell_type": "code",
   "execution_count": 334,
   "metadata": {},
   "outputs": [
    {
     "data": {
      "text/plain": [
       "'file:///Users/xy/Desktop/BIG DATA MGMT SYSTM/Project/temp-plot.html'"
      ]
     },
     "execution_count": 334,
     "metadata": {},
     "output_type": "execute_result"
    }
   ],
   "source": [
    "brand_rating=result_df.groupby('Brand_name').agg({'fileIndex':'count'})\n",
    "brand_rating=brand_rating[brand_rating['fileIndex']>20]  #select the brands having more than 15 reviews\n",
    "brand_rating=result_df[result_df['Brand_name'].isin(brand_rating.index)]\n",
    "\n",
    "group_stats = {}\n",
    "groupby_data = brand_rating.groupby(['Brand_name'])\n",
    "\n",
    "\n",
    "\n",
    "for group in brand_rating['Brand_name'].unique():\n",
    "    data_from_group = groupby_data.get_group(group)['rating']\n",
    "    stat = np.median(data_from_group)\n",
    "    group_stats[group] = stat\n",
    "\n",
    "fig = ff.create_violin(brand_rating, data_header='rating', group_header='Brand_name',\n",
    "                       colors='YlOrRd', height=800, width=1300,\n",
    "                        use_colorscale=True, group_stats=group_stats,title='Reviews for different brands')\n",
    "plotly.offline.plot(fig)"
   ]
  },
  {
   "cell_type": "code",
   "execution_count": null,
   "metadata": {
    "collapsed": true
   },
   "outputs": [],
   "source": []
  }
 ],
 "metadata": {
  "kernelspec": {
   "display_name": "Python 3",
   "language": "python",
   "name": "python3"
  },
  "language_info": {
   "codemirror_mode": {
    "name": "ipython",
    "version": 3
   },
   "file_extension": ".py",
   "mimetype": "text/x-python",
   "name": "python",
   "nbconvert_exporter": "python",
   "pygments_lexer": "ipython3",
   "version": "3.6.3"
  },
  "toc": {
   "base_numbering": 1,
   "nav_menu": {
    "height": "197px",
    "width": "160px"
   },
   "number_sections": true,
   "sideBar": true,
   "skip_h1_title": false,
   "title_cell": "Table of Contents",
   "title_sidebar": "Contents",
   "toc_cell": false,
   "toc_position": {
    "height": "calc(100% - 180px)",
    "left": "10px",
    "top": "150px",
    "width": "216px"
   },
   "toc_section_display": true,
   "toc_window_display": true
  },
  "varInspector": {
   "cols": {
    "lenName": 16,
    "lenType": 16,
    "lenVar": 40
   },
   "kernels_config": {
    "python": {
     "delete_cmd_postfix": "",
     "delete_cmd_prefix": "del ",
     "library": "var_list.py",
     "varRefreshCmd": "print(var_dic_list())"
    },
    "r": {
     "delete_cmd_postfix": ") ",
     "delete_cmd_prefix": "rm(",
     "library": "var_list.r",
     "varRefreshCmd": "cat(var_dic_list()) "
    }
   },
   "oldHeight": 123.18181799999999,
   "position": {
    "height": "189px",
    "left": "-0.943182px",
    "right": "20px",
    "top": "371.983px",
    "width": "215px"
   },
   "types_to_exclude": [
    "module",
    "function",
    "builtin_function_or_method",
    "instance",
    "_Feature"
   ],
   "varInspector_section_display": "block",
   "window_display": true
  }
 },
 "nbformat": 4,
 "nbformat_minor": 2
}
